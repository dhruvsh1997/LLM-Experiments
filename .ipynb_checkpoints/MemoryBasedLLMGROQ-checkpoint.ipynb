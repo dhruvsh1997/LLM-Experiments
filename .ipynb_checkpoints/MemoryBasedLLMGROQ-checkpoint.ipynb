{
 "cells": [
  {
   "cell_type": "code",
   "execution_count": null,
   "metadata": {
    "colab": {
     "base_uri": "https://localhost:8080/"
    },
    "id": "EDCXjHgj5lP2",
    "outputId": "35f4f964-0878-4059-9301-43d13173cbbb"
   },
   "outputs": [
    {
     "name": "stdout",
     "output_type": "stream",
     "text": [
      "Collecting groq\n",
      "  Downloading groq-0.18.0-py3-none-any.whl.metadata (14 kB)\n",
      "Requirement already satisfied: anyio<5,>=3.5.0 in /usr/local/lib/python3.11/dist-packages (from groq) (3.7.1)\n",
      "Requirement already satisfied: distro<2,>=1.7.0 in /usr/local/lib/python3.11/dist-packages (from groq) (1.9.0)\n",
      "Requirement already satisfied: httpx<1,>=0.23.0 in /usr/local/lib/python3.11/dist-packages (from groq) (0.28.1)\n",
      "Requirement already satisfied: pydantic<3,>=1.9.0 in /usr/local/lib/python3.11/dist-packages (from groq) (2.10.6)\n",
      "Requirement already satisfied: sniffio in /usr/local/lib/python3.11/dist-packages (from groq) (1.3.1)\n",
      "Requirement already satisfied: typing-extensions<5,>=4.10 in /usr/local/lib/python3.11/dist-packages (from groq) (4.12.2)\n",
      "Requirement already satisfied: idna>=2.8 in /usr/local/lib/python3.11/dist-packages (from anyio<5,>=3.5.0->groq) (3.10)\n",
      "Requirement already satisfied: certifi in /usr/local/lib/python3.11/dist-packages (from httpx<1,>=0.23.0->groq) (2025.1.31)\n",
      "Requirement already satisfied: httpcore==1.* in /usr/local/lib/python3.11/dist-packages (from httpx<1,>=0.23.0->groq) (1.0.7)\n",
      "Requirement already satisfied: h11<0.15,>=0.13 in /usr/local/lib/python3.11/dist-packages (from httpcore==1.*->httpx<1,>=0.23.0->groq) (0.14.0)\n",
      "Requirement already satisfied: annotated-types>=0.6.0 in /usr/local/lib/python3.11/dist-packages (from pydantic<3,>=1.9.0->groq) (0.7.0)\n",
      "Requirement already satisfied: pydantic-core==2.27.2 in /usr/local/lib/python3.11/dist-packages (from pydantic<3,>=1.9.0->groq) (2.27.2)\n",
      "Downloading groq-0.18.0-py3-none-any.whl (121 kB)\n",
      "\u001b[?25l   \u001b[90m━━━━━━━━━━━━━━━━━━━━━━━━━━━━━━━━━━━━━━━━\u001b[0m \u001b[32m0.0/121.9 kB\u001b[0m \u001b[31m?\u001b[0m eta \u001b[36m-:--:--\u001b[0m\r",
      "\u001b[2K   \u001b[90m━━━━━━━━━━━━━━━━━━━━━━━━━━━━━━━━━━━━━━━━\u001b[0m \u001b[32m121.9/121.9 kB\u001b[0m \u001b[31m5.2 MB/s\u001b[0m eta \u001b[36m0:00:00\u001b[0m\n",
      "\u001b[?25hInstalling collected packages: groq\n",
      "Successfully installed groq-0.18.0\n"
     ]
    }
   ],
   "source": [
    "# Step 1: Install required libraries (if not installed)\n",
    "!pip install groq\n",
    "\n",
    "# Step 2: Import necessary modules\n",
    "import os\n",
    "from groq import Groq"
   ]
  },
  {
   "cell_type": "code",
   "execution_count": null,
   "metadata": {
    "id": "C0B3kaRk6EU7"
   },
   "outputs": [],
   "source": [
    "# Step 3: Set up API key (Make sure to set it before running) install it first\n",
    "from google.colab import userdata\n",
    "GROQ_API_KEY = userdata.get('GROQ_API_KEY')  # Replace with your actual Groq API Key\n",
    "\n",
    "# Step 4: Initialize Groq client\n",
    "client_groq = Groq(api_key=GROQ_API_KEY)\n",
    "\n",
    "# Step 5: Define system prompt and memory storage\n",
    "SYSTEM_PROMPT = \"You are a helpful AI assistant. Answer questions concisely and accurately.\"\n",
    "\n",
    "# Initialize chat history with the system prompt\n",
    "message_history = [{\"role\": \"system\", \"content\": SYSTEM_PROMPT}]"
   ]
  },
  {
   "cell_type": "code",
   "execution_count": null,
   "metadata": {
    "id": "f8ToNZDE6ER7"
   },
   "outputs": [],
   "source": [
    "# Step 6: Function to generate answers using Groq API\n",
    "def generate_answer(question):\n",
    "    \"\"\"\n",
    "    Generates an answer from the Groq LLM while maintaining conversation history.\n",
    "    \"\"\"\n",
    "    try:\n",
    "        # Add user query to history\n",
    "        message_history.append({\"role\": \"user\", \"content\": question})\n",
    "\n",
    "        # Call Groq API with conversation history\n",
    "        response = client_groq.chat.completions.create(\n",
    "            model=\"llama-3.3-70b-versatile\",  # Choose the appropriate Groq model\n",
    "            messages=message_history\n",
    "        )\n",
    "\n",
    "        # Extract response and add to memory\n",
    "        final_answer = response.choices[0].message.content\n",
    "        message_history.append({\"role\": \"assistant\", \"content\": final_answer})\n",
    "\n",
    "        return final_answer\n",
    "    except Exception as e:\n",
    "        return f\"Error generating answer: {str(e)}\""
   ]
  },
  {
   "cell_type": "code",
   "execution_count": null,
   "metadata": {
    "colab": {
     "base_uri": "https://localhost:8080/"
    },
    "id": "0mLhoFad5mCY",
    "outputId": "ef3f7ef4-44bc-451a-b167-704ce8f69775"
   },
   "outputs": [
    {
     "name": "stdout",
     "output_type": "stream",
     "text": [
      "You: What is Soviet Union?\n",
      "Chatbot: The Soviet Union (USSR) was a socialist state that existed from 1922 to 1991. It was a union of 15 republics, with Russia being the largest, and was governed by a communist party. The Soviet Union was a major world power, playing a significant role in World War II and the Cold War, before dissolving into independent countries in 1991.\n",
      "You: List all the countries that ware broken after they desoulved?\n",
      "Chatbot: After the Soviet Union dissolved in 1991, it broke into 15 independent countries:\n",
      "\n",
      "1. Armenia\n",
      "2. Azerbaijan\n",
      "3. Belarus\n",
      "4. Estonia\n",
      "5. Georgia\n",
      "6. Kazakhstan\n",
      "7. Kyrgyzstan\n",
      "8. Latvia\n",
      "9. Lithuania\n",
      "10. Moldova\n",
      "11. Russia\n",
      "12. Tajikistan\n",
      "13. Turkmenistan\n",
      "14. Ukraine\n",
      "15. Uzbekistan\n",
      "\n",
      "These countries are now recognized as sovereign states by the international community.\n",
      "You: so which of htese have the highest economy?\n",
      "Chatbot: Among the 15 countries that emerged from the Soviet Union, Russia has the largest and strongest economy. It is the world's 11th largest economy by nominal GDP and has a diverse range of industries, including:\n",
      "\n",
      "* Energy (oil and gas)\n",
      "* Manufacturing\n",
      "* Agriculture\n",
      "* Technology\n",
      "* Finance\n",
      "\n",
      "Russia's economy is driven by its vast natural resources, strategic location, and large market. According to the International Monetary Fund (IMF), Russia's nominal GDP is approximately $1.73 trillion (2021 estimate).\n",
      "\n",
      "Here's a rough ranking of the top 5 economies among the former Soviet Union countries:\n",
      "\n",
      "1. Russia ($1.73 trillion)\n",
      "2. Ukraine ($134 billion)\n",
      "3. Kazakhstan ($123 billion)\n",
      "4. Belarus ($63 billion)\n",
      "5. Azerbaijan ($54 billion)\n",
      "\n",
      "Note that these figures are estimates and may vary depending on the source and methodology used.\n",
      "You: which of these are part of EU?\n",
      "Chatbot: Among the 15 countries that emerged from the Soviet Union, the following 3 countries are currently members of the European Union (EU):\n",
      "\n",
      "1. Estonia (joined in 2004)\n",
      "2. Latvia (joined in 2004)\n",
      "3. Lithuania (joined in 2004)\n",
      "\n",
      "Additionally, several other countries from the region are in various stages of accession or association with the EU:\n",
      "\n",
      "* Ukraine: Candidate for EU membership (applied in 2022)\n",
      "* Moldova: Candidate for EU membership (applied in 2022)\n",
      "* Georgia: Candidate for EU membership (applied in 2022)\n",
      "* Belarus: Not a member, but has been in negotiations with the EU about a possible association agreement\n",
      "* Azerbaijan, Kazakhstan, and others: Part of the EU's Eastern Partnership program, but not members or candidates for membership\n",
      "\n",
      "The other countries, including Russia, are not members of the EU. Russia has its own economic union, the Eurasian Economic Union (EEU), which includes several other former Soviet states.\n",
      "You: quit\n",
      "Chatbot: Goodbye! Have a great day!\n"
     ]
    }
   ],
   "source": [
    "# Step 7: Testing the chatbot interactively\n",
    "while True:\n",
    "    user_input = input(\"You: \")\n",
    "    if user_input.lower() in [\"exit\", \"quit\", \"bye\"]:\n",
    "        print(\"Chatbot: Goodbye! Have a great day!\")\n",
    "        break\n",
    "\n",
    "    bot_response = generate_answer(user_input)\n",
    "    print(f\"Chatbot: {bot_response}\")\n"
   ]
  },
  {
   "cell_type": "code",
   "execution_count": null,
   "metadata": {
    "id": "l0shNzzz5l9B"
   },
   "outputs": [],
   "source": []
  }
 ],
 "metadata": {
  "colab": {
   "provenance": []
  },
  "kernelspec": {
   "display_name": "Python 3",
   "name": "python3"
  },
  "language_info": {
   "name": "python"
  }
 },
 "nbformat": 4,
 "nbformat_minor": 4
}
